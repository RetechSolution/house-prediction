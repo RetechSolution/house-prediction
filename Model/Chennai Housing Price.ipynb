{
 "cells": [
  {
   "cell_type": "code",
   "execution_count": 2,
   "metadata": {},
   "outputs": [],
   "source": [
    "#import libraries\n",
    "import pandas as pd\n",
    "import numpy as np\n",
    "%matplotlib inline\n",
    "import matplotlib.pyplot as plt\n",
    "from sklearn.pipeline import Pipeline\n",
    "from sklearn.model_selection import train_test_split\n",
    "from sklearn.preprocessing import StandardScaler\n",
    "from sklearn.linear_model import LinearRegression\n",
    "from sklearn.linear_model import Ridge\n",
    "from sklearn.ensemble import RandomForestRegressor\n",
    "from sklearn.tree import DecisionTreeRegressor\n",
    "import seaborn as sns\n",
    "from sklearn.metrics import r2_score"
   ]
  },
  {
   "cell_type": "code",
   "execution_count": 3,
   "metadata": {},
   "outputs": [],
   "source": [
    "data = pd.read_csv(r\"C:\\Users\\retec\\Desktop\\Vels_5000_Mini\\Chennai House Price Prediction\\Dataset\\Chennai.csv\")"
   ]
  },
  {
   "cell_type": "code",
   "execution_count": 5,
   "metadata": {},
   "outputs": [
    {
     "data": {
      "text/html": [
       "<div>\n",
       "<style scoped>\n",
       "    .dataframe tbody tr th:only-of-type {\n",
       "        vertical-align: middle;\n",
       "    }\n",
       "\n",
       "    .dataframe tbody tr th {\n",
       "        vertical-align: top;\n",
       "    }\n",
       "\n",
       "    .dataframe thead th {\n",
       "        text-align: right;\n",
       "    }\n",
       "</style>\n",
       "<table border=\"1\" class=\"dataframe\">\n",
       "  <thead>\n",
       "    <tr style=\"text-align: right;\">\n",
       "      <th></th>\n",
       "      <th>Price</th>\n",
       "      <th>Area</th>\n",
       "      <th>Location</th>\n",
       "      <th>No. of Bedrooms</th>\n",
       "      <th>Resale</th>\n",
       "      <th>MaintenanceStaff</th>\n",
       "      <th>Gymnasium</th>\n",
       "      <th>SwimmingPool</th>\n",
       "      <th>LandscapedGardens</th>\n",
       "      <th>JoggingTrack</th>\n",
       "      <th>...</th>\n",
       "      <th>LiftAvailable</th>\n",
       "      <th>BED</th>\n",
       "      <th>VaastuCompliant</th>\n",
       "      <th>Microwave</th>\n",
       "      <th>GolfCourse</th>\n",
       "      <th>TV</th>\n",
       "      <th>DiningTable</th>\n",
       "      <th>Sofa</th>\n",
       "      <th>Wardrobe</th>\n",
       "      <th>Refrigerator</th>\n",
       "    </tr>\n",
       "  </thead>\n",
       "  <tbody>\n",
       "    <tr>\n",
       "      <th>0</th>\n",
       "      <td>5500000</td>\n",
       "      <td>1310</td>\n",
       "      <td>Perungalathur</td>\n",
       "      <td>3</td>\n",
       "      <td>0</td>\n",
       "      <td>0</td>\n",
       "      <td>0</td>\n",
       "      <td>0</td>\n",
       "      <td>0</td>\n",
       "      <td>0</td>\n",
       "      <td>...</td>\n",
       "      <td>0</td>\n",
       "      <td>0</td>\n",
       "      <td>0</td>\n",
       "      <td>0</td>\n",
       "      <td>0</td>\n",
       "      <td>0</td>\n",
       "      <td>0</td>\n",
       "      <td>0</td>\n",
       "      <td>0</td>\n",
       "      <td>0</td>\n",
       "    </tr>\n",
       "    <tr>\n",
       "      <th>1</th>\n",
       "      <td>5350000</td>\n",
       "      <td>1126</td>\n",
       "      <td>Madhavaram</td>\n",
       "      <td>2</td>\n",
       "      <td>0</td>\n",
       "      <td>0</td>\n",
       "      <td>1</td>\n",
       "      <td>1</td>\n",
       "      <td>1</td>\n",
       "      <td>0</td>\n",
       "      <td>...</td>\n",
       "      <td>1</td>\n",
       "      <td>0</td>\n",
       "      <td>0</td>\n",
       "      <td>0</td>\n",
       "      <td>0</td>\n",
       "      <td>0</td>\n",
       "      <td>0</td>\n",
       "      <td>0</td>\n",
       "      <td>0</td>\n",
       "      <td>0</td>\n",
       "    </tr>\n",
       "    <tr>\n",
       "      <th>2</th>\n",
       "      <td>8205000</td>\n",
       "      <td>1307</td>\n",
       "      <td>Karapakkam</td>\n",
       "      <td>3</td>\n",
       "      <td>0</td>\n",
       "      <td>0</td>\n",
       "      <td>1</td>\n",
       "      <td>1</td>\n",
       "      <td>1</td>\n",
       "      <td>1</td>\n",
       "      <td>...</td>\n",
       "      <td>0</td>\n",
       "      <td>0</td>\n",
       "      <td>0</td>\n",
       "      <td>0</td>\n",
       "      <td>0</td>\n",
       "      <td>0</td>\n",
       "      <td>0</td>\n",
       "      <td>0</td>\n",
       "      <td>0</td>\n",
       "      <td>0</td>\n",
       "    </tr>\n",
       "    <tr>\n",
       "      <th>3</th>\n",
       "      <td>23400000</td>\n",
       "      <td>3600</td>\n",
       "      <td>Thiruvidandhai</td>\n",
       "      <td>3</td>\n",
       "      <td>0</td>\n",
       "      <td>0</td>\n",
       "      <td>1</td>\n",
       "      <td>1</td>\n",
       "      <td>0</td>\n",
       "      <td>1</td>\n",
       "      <td>...</td>\n",
       "      <td>0</td>\n",
       "      <td>0</td>\n",
       "      <td>0</td>\n",
       "      <td>0</td>\n",
       "      <td>0</td>\n",
       "      <td>0</td>\n",
       "      <td>0</td>\n",
       "      <td>0</td>\n",
       "      <td>0</td>\n",
       "      <td>0</td>\n",
       "    </tr>\n",
       "    <tr>\n",
       "      <th>4</th>\n",
       "      <td>10100000</td>\n",
       "      <td>1700</td>\n",
       "      <td>Iyappanthangal</td>\n",
       "      <td>3</td>\n",
       "      <td>0</td>\n",
       "      <td>0</td>\n",
       "      <td>1</td>\n",
       "      <td>1</td>\n",
       "      <td>1</td>\n",
       "      <td>1</td>\n",
       "      <td>...</td>\n",
       "      <td>0</td>\n",
       "      <td>0</td>\n",
       "      <td>1</td>\n",
       "      <td>0</td>\n",
       "      <td>0</td>\n",
       "      <td>0</td>\n",
       "      <td>0</td>\n",
       "      <td>0</td>\n",
       "      <td>0</td>\n",
       "      <td>0</td>\n",
       "    </tr>\n",
       "  </tbody>\n",
       "</table>\n",
       "<p>5 rows × 40 columns</p>\n",
       "</div>"
      ],
      "text/plain": [
       "      Price  Area        Location  No. of Bedrooms  Resale  MaintenanceStaff  \\\n",
       "0   5500000  1310   Perungalathur                3       0                 0   \n",
       "1   5350000  1126      Madhavaram                2       0                 0   \n",
       "2   8205000  1307      Karapakkam                3       0                 0   \n",
       "3  23400000  3600  Thiruvidandhai                3       0                 0   \n",
       "4  10100000  1700  Iyappanthangal                3       0                 0   \n",
       "\n",
       "   Gymnasium  SwimmingPool  LandscapedGardens  JoggingTrack  ...  \\\n",
       "0          0             0                  0             0  ...   \n",
       "1          1             1                  1             0  ...   \n",
       "2          1             1                  1             1  ...   \n",
       "3          1             1                  0             1  ...   \n",
       "4          1             1                  1             1  ...   \n",
       "\n",
       "   LiftAvailable  BED  VaastuCompliant  Microwave  GolfCourse  TV  \\\n",
       "0              0    0                0          0           0   0   \n",
       "1              1    0                0          0           0   0   \n",
       "2              0    0                0          0           0   0   \n",
       "3              0    0                0          0           0   0   \n",
       "4              0    0                1          0           0   0   \n",
       "\n",
       "   DiningTable  Sofa  Wardrobe  Refrigerator  \n",
       "0            0     0         0             0  \n",
       "1            0     0         0             0  \n",
       "2            0     0         0             0  \n",
       "3            0     0         0             0  \n",
       "4            0     0         0             0  \n",
       "\n",
       "[5 rows x 40 columns]"
      ]
     },
     "execution_count": 5,
     "metadata": {},
     "output_type": "execute_result"
    }
   ],
   "source": [
    "data.head()"
   ]
  },
  {
   "cell_type": "code",
   "execution_count": 6,
   "metadata": {},
   "outputs": [
    {
     "data": {
      "text/html": [
       "<div>\n",
       "<style scoped>\n",
       "    .dataframe tbody tr th:only-of-type {\n",
       "        vertical-align: middle;\n",
       "    }\n",
       "\n",
       "    .dataframe tbody tr th {\n",
       "        vertical-align: top;\n",
       "    }\n",
       "\n",
       "    .dataframe thead th {\n",
       "        text-align: right;\n",
       "    }\n",
       "</style>\n",
       "<table border=\"1\" class=\"dataframe\">\n",
       "  <thead>\n",
       "    <tr style=\"text-align: right;\">\n",
       "      <th></th>\n",
       "      <th>Price</th>\n",
       "      <th>Area</th>\n",
       "      <th>No. of Bedrooms</th>\n",
       "      <th>Resale</th>\n",
       "      <th>MaintenanceStaff</th>\n",
       "      <th>Gymnasium</th>\n",
       "      <th>SwimmingPool</th>\n",
       "      <th>LandscapedGardens</th>\n",
       "      <th>JoggingTrack</th>\n",
       "      <th>RainWaterHarvesting</th>\n",
       "      <th>...</th>\n",
       "      <th>LiftAvailable</th>\n",
       "      <th>BED</th>\n",
       "      <th>VaastuCompliant</th>\n",
       "      <th>Microwave</th>\n",
       "      <th>GolfCourse</th>\n",
       "      <th>TV</th>\n",
       "      <th>DiningTable</th>\n",
       "      <th>Sofa</th>\n",
       "      <th>Wardrobe</th>\n",
       "      <th>Refrigerator</th>\n",
       "    </tr>\n",
       "  </thead>\n",
       "  <tbody>\n",
       "    <tr>\n",
       "      <th>count</th>\n",
       "      <td>5.014000e+03</td>\n",
       "      <td>5014.000000</td>\n",
       "      <td>5014.000000</td>\n",
       "      <td>5014.000000</td>\n",
       "      <td>5014.000000</td>\n",
       "      <td>5014.000000</td>\n",
       "      <td>5014.000000</td>\n",
       "      <td>5014.000000</td>\n",
       "      <td>5014.000000</td>\n",
       "      <td>5014.000000</td>\n",
       "      <td>...</td>\n",
       "      <td>5014.000000</td>\n",
       "      <td>5014.000000</td>\n",
       "      <td>5014.000000</td>\n",
       "      <td>5014.000000</td>\n",
       "      <td>5014.000000</td>\n",
       "      <td>5014.000000</td>\n",
       "      <td>5014.000000</td>\n",
       "      <td>5014.000000</td>\n",
       "      <td>5014.000000</td>\n",
       "      <td>5014.000000</td>\n",
       "    </tr>\n",
       "    <tr>\n",
       "      <th>mean</th>\n",
       "      <td>8.731264e+06</td>\n",
       "      <td>1232.992022</td>\n",
       "      <td>2.362984</td>\n",
       "      <td>0.097128</td>\n",
       "      <td>5.000997</td>\n",
       "      <td>5.213602</td>\n",
       "      <td>5.160949</td>\n",
       "      <td>5.114878</td>\n",
       "      <td>5.123055</td>\n",
       "      <td>5.115277</td>\n",
       "      <td>...</td>\n",
       "      <td>5.264260</td>\n",
       "      <td>4.999402</td>\n",
       "      <td>5.068010</td>\n",
       "      <td>4.997208</td>\n",
       "      <td>4.991823</td>\n",
       "      <td>5.009174</td>\n",
       "      <td>5.011767</td>\n",
       "      <td>4.998404</td>\n",
       "      <td>4.991823</td>\n",
       "      <td>5.009174</td>\n",
       "    </tr>\n",
       "    <tr>\n",
       "      <th>std</th>\n",
       "      <td>1.034261e+07</td>\n",
       "      <td>641.841841</td>\n",
       "      <td>0.705252</td>\n",
       "      <td>0.296162</td>\n",
       "      <td>4.464256</td>\n",
       "      <td>4.239118</td>\n",
       "      <td>4.296954</td>\n",
       "      <td>4.346406</td>\n",
       "      <td>4.337706</td>\n",
       "      <td>4.345983</td>\n",
       "      <td>...</td>\n",
       "      <td>4.182092</td>\n",
       "      <td>4.465864</td>\n",
       "      <td>4.395648</td>\n",
       "      <td>4.468074</td>\n",
       "      <td>4.473489</td>\n",
       "      <td>4.455995</td>\n",
       "      <td>4.453369</td>\n",
       "      <td>4.466869</td>\n",
       "      <td>4.473489</td>\n",
       "      <td>4.455995</td>\n",
       "    </tr>\n",
       "    <tr>\n",
       "      <th>min</th>\n",
       "      <td>2.000000e+06</td>\n",
       "      <td>362.000000</td>\n",
       "      <td>1.000000</td>\n",
       "      <td>0.000000</td>\n",
       "      <td>0.000000</td>\n",
       "      <td>0.000000</td>\n",
       "      <td>0.000000</td>\n",
       "      <td>0.000000</td>\n",
       "      <td>0.000000</td>\n",
       "      <td>0.000000</td>\n",
       "      <td>...</td>\n",
       "      <td>0.000000</td>\n",
       "      <td>0.000000</td>\n",
       "      <td>0.000000</td>\n",
       "      <td>0.000000</td>\n",
       "      <td>0.000000</td>\n",
       "      <td>0.000000</td>\n",
       "      <td>0.000000</td>\n",
       "      <td>0.000000</td>\n",
       "      <td>0.000000</td>\n",
       "      <td>0.000000</td>\n",
       "    </tr>\n",
       "    <tr>\n",
       "      <th>25%</th>\n",
       "      <td>4.095000e+06</td>\n",
       "      <td>865.000000</td>\n",
       "      <td>2.000000</td>\n",
       "      <td>0.000000</td>\n",
       "      <td>0.000000</td>\n",
       "      <td>1.000000</td>\n",
       "      <td>0.000000</td>\n",
       "      <td>0.000000</td>\n",
       "      <td>0.000000</td>\n",
       "      <td>0.000000</td>\n",
       "      <td>...</td>\n",
       "      <td>1.000000</td>\n",
       "      <td>0.000000</td>\n",
       "      <td>0.000000</td>\n",
       "      <td>0.000000</td>\n",
       "      <td>0.000000</td>\n",
       "      <td>0.000000</td>\n",
       "      <td>0.000000</td>\n",
       "      <td>0.000000</td>\n",
       "      <td>0.000000</td>\n",
       "      <td>0.000000</td>\n",
       "    </tr>\n",
       "    <tr>\n",
       "      <th>50%</th>\n",
       "      <td>5.782000e+06</td>\n",
       "      <td>1067.000000</td>\n",
       "      <td>2.000000</td>\n",
       "      <td>0.000000</td>\n",
       "      <td>9.000000</td>\n",
       "      <td>9.000000</td>\n",
       "      <td>9.000000</td>\n",
       "      <td>9.000000</td>\n",
       "      <td>9.000000</td>\n",
       "      <td>9.000000</td>\n",
       "      <td>...</td>\n",
       "      <td>9.000000</td>\n",
       "      <td>9.000000</td>\n",
       "      <td>9.000000</td>\n",
       "      <td>9.000000</td>\n",
       "      <td>9.000000</td>\n",
       "      <td>9.000000</td>\n",
       "      <td>9.000000</td>\n",
       "      <td>9.000000</td>\n",
       "      <td>9.000000</td>\n",
       "      <td>9.000000</td>\n",
       "    </tr>\n",
       "    <tr>\n",
       "      <th>75%</th>\n",
       "      <td>8.675000e+06</td>\n",
       "      <td>1438.750000</td>\n",
       "      <td>3.000000</td>\n",
       "      <td>0.000000</td>\n",
       "      <td>9.000000</td>\n",
       "      <td>9.000000</td>\n",
       "      <td>9.000000</td>\n",
       "      <td>9.000000</td>\n",
       "      <td>9.000000</td>\n",
       "      <td>9.000000</td>\n",
       "      <td>...</td>\n",
       "      <td>9.000000</td>\n",
       "      <td>9.000000</td>\n",
       "      <td>9.000000</td>\n",
       "      <td>9.000000</td>\n",
       "      <td>9.000000</td>\n",
       "      <td>9.000000</td>\n",
       "      <td>9.000000</td>\n",
       "      <td>9.000000</td>\n",
       "      <td>9.000000</td>\n",
       "      <td>9.000000</td>\n",
       "    </tr>\n",
       "    <tr>\n",
       "      <th>max</th>\n",
       "      <td>1.900000e+08</td>\n",
       "      <td>7240.000000</td>\n",
       "      <td>5.000000</td>\n",
       "      <td>1.000000</td>\n",
       "      <td>9.000000</td>\n",
       "      <td>9.000000</td>\n",
       "      <td>9.000000</td>\n",
       "      <td>9.000000</td>\n",
       "      <td>9.000000</td>\n",
       "      <td>9.000000</td>\n",
       "      <td>...</td>\n",
       "      <td>9.000000</td>\n",
       "      <td>9.000000</td>\n",
       "      <td>9.000000</td>\n",
       "      <td>9.000000</td>\n",
       "      <td>9.000000</td>\n",
       "      <td>9.000000</td>\n",
       "      <td>9.000000</td>\n",
       "      <td>9.000000</td>\n",
       "      <td>9.000000</td>\n",
       "      <td>9.000000</td>\n",
       "    </tr>\n",
       "  </tbody>\n",
       "</table>\n",
       "<p>8 rows × 39 columns</p>\n",
       "</div>"
      ],
      "text/plain": [
       "              Price         Area  No. of Bedrooms       Resale  \\\n",
       "count  5.014000e+03  5014.000000      5014.000000  5014.000000   \n",
       "mean   8.731264e+06  1232.992022         2.362984     0.097128   \n",
       "std    1.034261e+07   641.841841         0.705252     0.296162   \n",
       "min    2.000000e+06   362.000000         1.000000     0.000000   \n",
       "25%    4.095000e+06   865.000000         2.000000     0.000000   \n",
       "50%    5.782000e+06  1067.000000         2.000000     0.000000   \n",
       "75%    8.675000e+06  1438.750000         3.000000     0.000000   \n",
       "max    1.900000e+08  7240.000000         5.000000     1.000000   \n",
       "\n",
       "       MaintenanceStaff    Gymnasium  SwimmingPool  LandscapedGardens  \\\n",
       "count       5014.000000  5014.000000   5014.000000        5014.000000   \n",
       "mean           5.000997     5.213602      5.160949           5.114878   \n",
       "std            4.464256     4.239118      4.296954           4.346406   \n",
       "min            0.000000     0.000000      0.000000           0.000000   \n",
       "25%            0.000000     1.000000      0.000000           0.000000   \n",
       "50%            9.000000     9.000000      9.000000           9.000000   \n",
       "75%            9.000000     9.000000      9.000000           9.000000   \n",
       "max            9.000000     9.000000      9.000000           9.000000   \n",
       "\n",
       "       JoggingTrack  RainWaterHarvesting  ...  LiftAvailable          BED  \\\n",
       "count   5014.000000          5014.000000  ...    5014.000000  5014.000000   \n",
       "mean       5.123055             5.115277  ...       5.264260     4.999402   \n",
       "std        4.337706             4.345983  ...       4.182092     4.465864   \n",
       "min        0.000000             0.000000  ...       0.000000     0.000000   \n",
       "25%        0.000000             0.000000  ...       1.000000     0.000000   \n",
       "50%        9.000000             9.000000  ...       9.000000     9.000000   \n",
       "75%        9.000000             9.000000  ...       9.000000     9.000000   \n",
       "max        9.000000             9.000000  ...       9.000000     9.000000   \n",
       "\n",
       "       VaastuCompliant    Microwave   GolfCourse           TV  DiningTable  \\\n",
       "count      5014.000000  5014.000000  5014.000000  5014.000000  5014.000000   \n",
       "mean          5.068010     4.997208     4.991823     5.009174     5.011767   \n",
       "std           4.395648     4.468074     4.473489     4.455995     4.453369   \n",
       "min           0.000000     0.000000     0.000000     0.000000     0.000000   \n",
       "25%           0.000000     0.000000     0.000000     0.000000     0.000000   \n",
       "50%           9.000000     9.000000     9.000000     9.000000     9.000000   \n",
       "75%           9.000000     9.000000     9.000000     9.000000     9.000000   \n",
       "max           9.000000     9.000000     9.000000     9.000000     9.000000   \n",
       "\n",
       "              Sofa     Wardrobe  Refrigerator  \n",
       "count  5014.000000  5014.000000   5014.000000  \n",
       "mean      4.998404     4.991823      5.009174  \n",
       "std       4.466869     4.473489      4.455995  \n",
       "min       0.000000     0.000000      0.000000  \n",
       "25%       0.000000     0.000000      0.000000  \n",
       "50%       9.000000     9.000000      9.000000  \n",
       "75%       9.000000     9.000000      9.000000  \n",
       "max       9.000000     9.000000      9.000000  \n",
       "\n",
       "[8 rows x 39 columns]"
      ]
     },
     "execution_count": 6,
     "metadata": {},
     "output_type": "execute_result"
    }
   ],
   "source": [
    "data.describe()"
   ]
  },
  {
   "cell_type": "code",
   "execution_count": 7,
   "metadata": {},
   "outputs": [
    {
     "data": {
      "text/plain": [
       "Index(['Price', 'Area', 'Location', 'No. of Bedrooms', 'Resale',\n",
       "       'MaintenanceStaff', 'Gymnasium', 'SwimmingPool', 'LandscapedGardens',\n",
       "       'JoggingTrack', 'RainWaterHarvesting', 'IndoorGames', 'ShoppingMall',\n",
       "       'Intercom', 'SportsFacility', 'ATM', 'ClubHouse', 'School',\n",
       "       '24X7Security', 'PowerBackup', 'CarParking', 'StaffQuarter',\n",
       "       'Cafeteria', 'MultipurposeRoom', 'Hospital', 'WashingMachine',\n",
       "       'Gasconnection', 'AC', 'Wifi', 'Children'splayarea', 'LiftAvailable',\n",
       "       'BED', 'VaastuCompliant', 'Microwave', 'GolfCourse', 'TV',\n",
       "       'DiningTable', 'Sofa', 'Wardrobe', 'Refrigerator'],\n",
       "      dtype='object')"
      ]
     },
     "execution_count": 7,
     "metadata": {},
     "output_type": "execute_result"
    }
   ],
   "source": [
    "data.columns"
   ]
  },
  {
   "cell_type": "code",
   "execution_count": 8,
   "metadata": {},
   "outputs": [
    {
     "data": {
      "text/plain": [
       "<AxesSubplot:>"
      ]
     },
     "execution_count": 8,
     "metadata": {},
     "output_type": "execute_result"
    },
    {
     "data": {
      "image/png": "[encoded data removed]",
      "text/plain": [
       "<Figure size 432x288 with 2 Axes>"
      ]
     },
     "metadata": {
      "needs_background": "light"
     },
     "output_type": "display_data"
    }
   ],
   "source": [
    "sns.heatmap(data.corr(), annot=True)"
   ]
  },
  {
   "cell_type": "code",
   "execution_count": 9,
   "metadata": {},
   "outputs": [],
   "source": [
    "X = data[['Price', 'Area', 'Location', 'No. of Bedrooms', 'Resale',\n",
    "       'MaintenanceStaff', 'Gymnasium', 'SwimmingPool', 'LandscapedGardens',\n",
    "       'JoggingTrack', 'RainWaterHarvesting', 'IndoorGames', 'ShoppingMall',\n",
    "       'Intercom', 'SportsFacility', 'ATM', 'ClubHouse', 'School',\n",
    "       '24X7Security', 'PowerBackup', 'CarParking', 'StaffQuarter',\n",
    "       'Cafeteria', 'MultipurposeRoom', 'Hospital', 'WashingMachine',\n",
    "       'Gasconnection', 'AC', 'Wifi', \"Children'splayarea\", 'LiftAvailable',\n",
    "       'BED', 'VaastuCompliant', 'Microwave', 'GolfCourse', 'TV',\n",
    "       'DiningTable', 'Sofa', 'Wardrobe', 'Refrigerator']]\n",
    "\n",
    "y = data['Price']"
   ]
  },
  {
   "cell_type": "code",
   "execution_count": 10,
   "metadata": {},
   "outputs": [],
   "source": [
    "from sklearn.model_selection import train_test_split"
   ]
  },
  {
   "cell_type": "code",
   "execution_count": 11,
   "metadata": {},
   "outputs": [],
   "source": [
    "X_train, X_test, y_train, y_test = train_test_split(X, y, test_size=0.2, random_state=47)"
   ]
  },
  {
   "cell_type": "code",
   "execution_count": 12,
   "metadata": {},
   "outputs": [
    {
     "data": {
      "text/html": [
       "<div>\n",
       "<style scoped>\n",
       "    .dataframe tbody tr th:only-of-type {\n",
       "        vertical-align: middle;\n",
       "    }\n",
       "\n",
       "    .dataframe tbody tr th {\n",
       "        vertical-align: top;\n",
       "    }\n",
       "\n",
       "    .dataframe thead th {\n",
       "        text-align: right;\n",
       "    }\n",
       "</style>\n",
       "<table border=\"1\" class=\"dataframe\">\n",
       "  <thead>\n",
       "    <tr style=\"text-align: right;\">\n",
       "      <th></th>\n",
       "      <th>Price</th>\n",
       "      <th>Area</th>\n",
       "      <th>Location</th>\n",
       "      <th>No. of Bedrooms</th>\n",
       "      <th>Resale</th>\n",
       "      <th>MaintenanceStaff</th>\n",
       "      <th>Gymnasium</th>\n",
       "      <th>SwimmingPool</th>\n",
       "      <th>LandscapedGardens</th>\n",
       "      <th>JoggingTrack</th>\n",
       "      <th>...</th>\n",
       "      <th>LiftAvailable</th>\n",
       "      <th>BED</th>\n",
       "      <th>VaastuCompliant</th>\n",
       "      <th>Microwave</th>\n",
       "      <th>GolfCourse</th>\n",
       "      <th>TV</th>\n",
       "      <th>DiningTable</th>\n",
       "      <th>Sofa</th>\n",
       "      <th>Wardrobe</th>\n",
       "      <th>Refrigerator</th>\n",
       "    </tr>\n",
       "  </thead>\n",
       "  <tbody>\n",
       "    <tr>\n",
       "      <th>3450</th>\n",
       "      <td>3500000</td>\n",
       "      <td>1465</td>\n",
       "      <td>Manapakkam</td>\n",
       "      <td>3</td>\n",
       "      <td>0</td>\n",
       "      <td>9</td>\n",
       "      <td>9</td>\n",
       "      <td>9</td>\n",
       "      <td>9</td>\n",
       "      <td>9</td>\n",
       "      <td>...</td>\n",
       "      <td>9</td>\n",
       "      <td>9</td>\n",
       "      <td>9</td>\n",
       "      <td>9</td>\n",
       "      <td>9</td>\n",
       "      <td>9</td>\n",
       "      <td>9</td>\n",
       "      <td>9</td>\n",
       "      <td>9</td>\n",
       "      <td>9</td>\n",
       "    </tr>\n",
       "    <tr>\n",
       "      <th>3853</th>\n",
       "      <td>4255000</td>\n",
       "      <td>1038</td>\n",
       "      <td>Ayanambakkam</td>\n",
       "      <td>2</td>\n",
       "      <td>0</td>\n",
       "      <td>9</td>\n",
       "      <td>9</td>\n",
       "      <td>9</td>\n",
       "      <td>9</td>\n",
       "      <td>9</td>\n",
       "      <td>...</td>\n",
       "      <td>9</td>\n",
       "      <td>9</td>\n",
       "      <td>9</td>\n",
       "      <td>9</td>\n",
       "      <td>9</td>\n",
       "      <td>9</td>\n",
       "      <td>9</td>\n",
       "      <td>9</td>\n",
       "      <td>9</td>\n",
       "      <td>9</td>\n",
       "    </tr>\n",
       "    <tr>\n",
       "      <th>4676</th>\n",
       "      <td>22300000</td>\n",
       "      <td>1685</td>\n",
       "      <td>Padur</td>\n",
       "      <td>3</td>\n",
       "      <td>0</td>\n",
       "      <td>9</td>\n",
       "      <td>9</td>\n",
       "      <td>9</td>\n",
       "      <td>9</td>\n",
       "      <td>9</td>\n",
       "      <td>...</td>\n",
       "      <td>9</td>\n",
       "      <td>9</td>\n",
       "      <td>9</td>\n",
       "      <td>9</td>\n",
       "      <td>9</td>\n",
       "      <td>9</td>\n",
       "      <td>9</td>\n",
       "      <td>9</td>\n",
       "      <td>9</td>\n",
       "      <td>9</td>\n",
       "    </tr>\n",
       "    <tr>\n",
       "      <th>4033</th>\n",
       "      <td>12600000</td>\n",
       "      <td>612</td>\n",
       "      <td>Moolacheri</td>\n",
       "      <td>1</td>\n",
       "      <td>0</td>\n",
       "      <td>9</td>\n",
       "      <td>9</td>\n",
       "      <td>9</td>\n",
       "      <td>9</td>\n",
       "      <td>9</td>\n",
       "      <td>...</td>\n",
       "      <td>9</td>\n",
       "      <td>9</td>\n",
       "      <td>9</td>\n",
       "      <td>9</td>\n",
       "      <td>9</td>\n",
       "      <td>9</td>\n",
       "      <td>9</td>\n",
       "      <td>9</td>\n",
       "      <td>9</td>\n",
       "      <td>9</td>\n",
       "    </tr>\n",
       "    <tr>\n",
       "      <th>233</th>\n",
       "      <td>8205000</td>\n",
       "      <td>1563</td>\n",
       "      <td>Karapakkam</td>\n",
       "      <td>3</td>\n",
       "      <td>0</td>\n",
       "      <td>0</td>\n",
       "      <td>1</td>\n",
       "      <td>1</td>\n",
       "      <td>0</td>\n",
       "      <td>1</td>\n",
       "      <td>...</td>\n",
       "      <td>1</td>\n",
       "      <td>0</td>\n",
       "      <td>0</td>\n",
       "      <td>0</td>\n",
       "      <td>0</td>\n",
       "      <td>0</td>\n",
       "      <td>0</td>\n",
       "      <td>0</td>\n",
       "      <td>0</td>\n",
       "      <td>0</td>\n",
       "    </tr>\n",
       "    <tr>\n",
       "      <th>...</th>\n",
       "      <td>...</td>\n",
       "      <td>...</td>\n",
       "      <td>...</td>\n",
       "      <td>...</td>\n",
       "      <td>...</td>\n",
       "      <td>...</td>\n",
       "      <td>...</td>\n",
       "      <td>...</td>\n",
       "      <td>...</td>\n",
       "      <td>...</td>\n",
       "      <td>...</td>\n",
       "      <td>...</td>\n",
       "      <td>...</td>\n",
       "      <td>...</td>\n",
       "      <td>...</td>\n",
       "      <td>...</td>\n",
       "      <td>...</td>\n",
       "      <td>...</td>\n",
       "      <td>...</td>\n",
       "      <td>...</td>\n",
       "      <td>...</td>\n",
       "    </tr>\n",
       "    <tr>\n",
       "      <th>3095</th>\n",
       "      <td>4829000</td>\n",
       "      <td>876</td>\n",
       "      <td>Selaiyur</td>\n",
       "      <td>2</td>\n",
       "      <td>0</td>\n",
       "      <td>9</td>\n",
       "      <td>9</td>\n",
       "      <td>9</td>\n",
       "      <td>9</td>\n",
       "      <td>9</td>\n",
       "      <td>...</td>\n",
       "      <td>9</td>\n",
       "      <td>9</td>\n",
       "      <td>9</td>\n",
       "      <td>9</td>\n",
       "      <td>9</td>\n",
       "      <td>9</td>\n",
       "      <td>9</td>\n",
       "      <td>9</td>\n",
       "      <td>9</td>\n",
       "      <td>9</td>\n",
       "    </tr>\n",
       "    <tr>\n",
       "      <th>2896</th>\n",
       "      <td>3474000</td>\n",
       "      <td>738</td>\n",
       "      <td>Nanmangalam</td>\n",
       "      <td>2</td>\n",
       "      <td>0</td>\n",
       "      <td>9</td>\n",
       "      <td>9</td>\n",
       "      <td>9</td>\n",
       "      <td>9</td>\n",
       "      <td>9</td>\n",
       "      <td>...</td>\n",
       "      <td>9</td>\n",
       "      <td>9</td>\n",
       "      <td>9</td>\n",
       "      <td>9</td>\n",
       "      <td>9</td>\n",
       "      <td>9</td>\n",
       "      <td>9</td>\n",
       "      <td>9</td>\n",
       "      <td>9</td>\n",
       "      <td>9</td>\n",
       "    </tr>\n",
       "    <tr>\n",
       "      <th>691</th>\n",
       "      <td>9741000</td>\n",
       "      <td>1584</td>\n",
       "      <td>Perungudi</td>\n",
       "      <td>3</td>\n",
       "      <td>0</td>\n",
       "      <td>0</td>\n",
       "      <td>0</td>\n",
       "      <td>0</td>\n",
       "      <td>1</td>\n",
       "      <td>0</td>\n",
       "      <td>...</td>\n",
       "      <td>1</td>\n",
       "      <td>0</td>\n",
       "      <td>0</td>\n",
       "      <td>0</td>\n",
       "      <td>0</td>\n",
       "      <td>0</td>\n",
       "      <td>0</td>\n",
       "      <td>0</td>\n",
       "      <td>0</td>\n",
       "      <td>0</td>\n",
       "    </tr>\n",
       "    <tr>\n",
       "      <th>3336</th>\n",
       "      <td>10500000</td>\n",
       "      <td>850</td>\n",
       "      <td>Porur</td>\n",
       "      <td>2</td>\n",
       "      <td>0</td>\n",
       "      <td>9</td>\n",
       "      <td>9</td>\n",
       "      <td>9</td>\n",
       "      <td>9</td>\n",
       "      <td>9</td>\n",
       "      <td>...</td>\n",
       "      <td>9</td>\n",
       "      <td>9</td>\n",
       "      <td>9</td>\n",
       "      <td>9</td>\n",
       "      <td>9</td>\n",
       "      <td>9</td>\n",
       "      <td>9</td>\n",
       "      <td>9</td>\n",
       "      <td>9</td>\n",
       "      <td>9</td>\n",
       "    </tr>\n",
       "    <tr>\n",
       "      <th>1926</th>\n",
       "      <td>3400000</td>\n",
       "      <td>603</td>\n",
       "      <td>Moolacheri</td>\n",
       "      <td>2</td>\n",
       "      <td>0</td>\n",
       "      <td>0</td>\n",
       "      <td>1</td>\n",
       "      <td>1</td>\n",
       "      <td>1</td>\n",
       "      <td>1</td>\n",
       "      <td>...</td>\n",
       "      <td>0</td>\n",
       "      <td>0</td>\n",
       "      <td>0</td>\n",
       "      <td>0</td>\n",
       "      <td>0</td>\n",
       "      <td>0</td>\n",
       "      <td>0</td>\n",
       "      <td>0</td>\n",
       "      <td>0</td>\n",
       "      <td>0</td>\n",
       "    </tr>\n",
       "  </tbody>\n",
       "</table>\n",
       "<p>4011 rows × 40 columns</p>\n",
       "</div>"
      ],
      "text/plain": [
       "         Price  Area      Location  No. of Bedrooms  Resale  MaintenanceStaff  \\\n",
       "3450   3500000  1465    Manapakkam                3       0                 9   \n",
       "3853   4255000  1038  Ayanambakkam                2       0                 9   \n",
       "4676  22300000  1685         Padur                3       0                 9   \n",
       "4033  12600000   612    Moolacheri                1       0                 9   \n",
       "233    8205000  1563    Karapakkam                3       0                 0   \n",
       "...        ...   ...           ...              ...     ...               ...   \n",
       "3095   4829000   876      Selaiyur                2       0                 9   \n",
       "2896   3474000   738   Nanmangalam                2       0                 9   \n",
       "691    9741000  1584     Perungudi                3       0                 0   \n",
       "3336  10500000   850         Porur                2       0                 9   \n",
       "1926   3400000   603    Moolacheri                2       0                 0   \n",
       "\n",
       "      Gymnasium  SwimmingPool  LandscapedGardens  JoggingTrack  ...  \\\n",
       "3450          9             9                  9             9  ...   \n",
       "3853          9             9                  9             9  ...   \n",
       "4676          9             9                  9             9  ...   \n",
       "4033          9             9                  9             9  ...   \n",
       "233           1             1                  0             1  ...   \n",
       "...         ...           ...                ...           ...  ...   \n",
       "3095          9             9                  9             9  ...   \n",
       "2896          9             9                  9             9  ...   \n",
       "691           0             0                  1             0  ...   \n",
       "3336          9             9                  9             9  ...   \n",
       "1926          1             1                  1             1  ...   \n",
       "\n",
       "      LiftAvailable  BED  VaastuCompliant  Microwave  GolfCourse  TV  \\\n",
       "3450              9    9                9          9           9   9   \n",
       "3853              9    9                9          9           9   9   \n",
       "4676              9    9                9          9           9   9   \n",
       "4033              9    9                9          9           9   9   \n",
       "233               1    0                0          0           0   0   \n",
       "...             ...  ...              ...        ...         ...  ..   \n",
       "3095              9    9                9          9           9   9   \n",
       "2896              9    9                9          9           9   9   \n",
       "691               1    0                0          0           0   0   \n",
       "3336              9    9                9          9           9   9   \n",
       "1926              0    0                0          0           0   0   \n",
       "\n",
       "      DiningTable  Sofa  Wardrobe  Refrigerator  \n",
       "3450            9     9         9             9  \n",
       "3853            9     9         9             9  \n",
       "4676            9     9         9             9  \n",
       "4033            9     9         9             9  \n",
       "233             0     0         0             0  \n",
       "...           ...   ...       ...           ...  \n",
       "3095            9     9         9             9  \n",
       "2896            9     9         9             9  \n",
       "691             0     0         0             0  \n",
       "3336            9     9         9             9  \n",
       "1926            0     0         0             0  \n",
       "\n",
       "[4011 rows x 40 columns]"
      ]
     },
     "execution_count": 12,
     "metadata": {},
     "output_type": "execute_result"
    }
   ],
   "source": [
    "X_train"
   ]
  },
  {
   "cell_type": "code",
   "execution_count": 13,
   "metadata": {},
   "outputs": [
    {
     "data": {
      "image/png": "[encoded data removed]",
      "text/plain": [
       "<Figure size 432x288 with 1 Axes>"
      ]
     },
     "metadata": {
      "needs_background": "light"
     },
     "output_type": "display_data"
    }
   ],
   "source": [
    "K=np.log(X_train['Price']/X_train['Area'])\n",
    "\n",
    "plt.plot(K,X_train['Price'],'o')\n",
    "plt.xlabel('Location decoded value')\n",
    "plt.ylabel('Price')\n",
    "plt.title('Chennai housing price')\n",
    "plt.show()\n"
   ]
  },
  {
   "cell_type": "code",
   "execution_count": 14,
   "metadata": {},
   "outputs": [
    {
     "data": {
      "text/plain": [
       "Price                  1.000000\n",
       "Area                   0.419317\n",
       "No. of Bedrooms        0.303560\n",
       "Resale                 0.091496\n",
       "MaintenanceStaff       0.052747\n",
       "Gymnasium              0.063763\n",
       "SwimmingPool           0.063166\n",
       "LandscapedGardens      0.060994\n",
       "JoggingTrack           0.054873\n",
       "RainWaterHarvesting    0.055554\n",
       "IndoorGames            0.056832\n",
       "ShoppingMall           0.052591\n",
       "Intercom               0.060870\n",
       "SportsFacility         0.056424\n",
       "ATM                    0.051148\n",
       "ClubHouse              0.060837\n",
       "School                 0.051561\n",
       "24X7Security           0.057899\n",
       "PowerBackup            0.061380\n",
       "CarParking             0.055960\n",
       "StaffQuarter           0.052703\n",
       "Cafeteria              0.053710\n",
       "MultipurposeRoom       0.054613\n",
       "Hospital               0.051831\n",
       "WashingMachine         0.053339\n",
       "Gasconnection          0.054344\n",
       "AC                     0.053011\n",
       "Wifi                   0.051422\n",
       "Children'splayarea     0.060690\n",
       "LiftAvailable          0.056109\n",
       "BED                    0.052695\n",
       "VaastuCompliant        0.054521\n",
       "Microwave              0.052992\n",
       "GolfCourse             0.051422\n",
       "TV                     0.052247\n",
       "DiningTable            0.052787\n",
       "Sofa                   0.053579\n",
       "Wardrobe               0.051422\n",
       "Refrigerator           0.052385\n",
       "Name: Price, dtype: float64"
      ]
     },
     "execution_count": 14,
     "metadata": {},
     "output_type": "execute_result"
    }
   ],
   "source": [
    "matrix_corr=X_train.corr()\n",
    "matrix_corr['Price']"
   ]
  },
  {
   "cell_type": "code",
   "execution_count": 15,
   "metadata": {},
   "outputs": [],
   "source": [
    "def na_remove(data):\n",
    "    data.replace(9,0.5,inplace=True)"
   ]
  },
  {
   "cell_type": "code",
   "execution_count": 16,
   "metadata": {},
   "outputs": [],
   "source": [
    "def data_processing(data):\n",
    "    K=np.log(data['Price']/data['Area'])\n",
    "    data['Location']=K\n",
    "    house_feature=data.drop(['Price'],axis=1)\n",
    "    my_pipeline=Pipeline([('rem',na_remove(house_feature)),\n",
    "                          ('std',StandardScaler())   \n",
    "                         ])\n",
    "    return my_pipeline.fit_transform(house_feature)"
   ]
  },
  {
   "cell_type": "code",
   "execution_count": 17,
   "metadata": {},
   "outputs": [
    {
     "name": "stderr",
     "output_type": "stream",
     "text": [
      "C:\\Users\\retec\\Anaconda3\\envs\\tens\\lib\\site-packages\\ipykernel_launcher.py:3: SettingWithCopyWarning: \n",
      "A value is trying to be set on a copy of a slice from a DataFrame.\n",
      "Try using .loc[row_indexer,col_indexer] = value instead\n",
      "\n",
      "See the caveats in the documentation: https://pandas.pydata.org/pandas-docs/stable/user_guide/indexing.html#returning-a-view-versus-a-copy\n",
      "  This is separate from the ipykernel package so we can avoid doing imports until\n"
     ]
    }
   ],
   "source": [
    "houseprice_train=np.log(X_train['Price'])\n",
    "data_train=data_processing(X_train)"
   ]
  },
  {
   "cell_type": "code",
   "execution_count": 18,
   "metadata": {},
   "outputs": [
    {
     "data": {
      "text/plain": [
       "(4011, 39)"
      ]
     },
     "execution_count": 18,
     "metadata": {},
     "output_type": "execute_result"
    }
   ],
   "source": [
    "data_train.shape"
   ]
  },
  {
   "cell_type": "markdown",
   "metadata": {},
   "source": [
    "# Different model training"
   ]
  },
  {
   "cell_type": "code",
   "execution_count": 19,
   "metadata": {},
   "outputs": [],
   "source": [
    "model1=LinearRegression().fit(data_train,houseprice_train)"
   ]
  },
  {
   "cell_type": "code",
   "execution_count": 20,
   "metadata": {},
   "outputs": [],
   "source": [
    "model2=Ridge().fit(data_train,houseprice_train)"
   ]
  },
  {
   "cell_type": "code",
   "execution_count": 21,
   "metadata": {},
   "outputs": [],
   "source": [
    "model3=DecisionTreeRegressor().fit(data_train,houseprice_train)"
   ]
  },
  {
   "cell_type": "code",
   "execution_count": 22,
   "metadata": {},
   "outputs": [
    {
     "name": "stderr",
     "output_type": "stream",
     "text": [
      "C:\\Users\\retec\\Anaconda3\\envs\\tens\\lib\\site-packages\\sklearn\\ensemble\\forest.py:245: FutureWarning: The default value of n_estimators will change from 10 in version 0.20 to 100 in 0.22.\n",
      "  \"10 in version 0.20 to 100 in 0.22.\", FutureWarning)\n"
     ]
    }
   ],
   "source": [
    "model4=RandomForestRegressor().fit(data_train,houseprice_train)"
   ]
  },
  {
   "cell_type": "code",
   "execution_count": 23,
   "metadata": {},
   "outputs": [],
   "source": [
    "model1_pred=model1.predict(data_train)\n",
    "model2_pred=model2.predict(data_train)\n",
    "model3_pred=model3.predict(data_train)\n",
    "model4_pred=model4.predict(data_train)"
   ]
  },
  {
   "cell_type": "code",
   "execution_count": 24,
   "metadata": {},
   "outputs": [
    {
     "name": "stderr",
     "output_type": "stream",
     "text": [
      "C:\\Users\\retec\\Anaconda3\\envs\\tens\\lib\\site-packages\\seaborn\\_decorators.py:43: FutureWarning: Pass the following variables as keyword args: x, y. From version 0.12, the only valid positional argument will be `data`, and passing other arguments without an explicit keyword will result in an error or misinterpretation.\n",
      "  FutureWarning\n"
     ]
    },
    {
     "data": {
      "text/plain": [
       "<AxesSubplot:ylabel='Price'>"
      ]
     },
     "execution_count": 24,
     "metadata": {},
     "output_type": "execute_result"
    },
    {
     "data": {
      "image/png": "[encoded data removed]",
      "text/plain": [
       "<Figure size 432x288 with 1 Axes>"
      ]
     },
     "metadata": {
      "needs_background": "light"
     },
     "output_type": "display_data"
    }
   ],
   "source": [
    "sns.regplot(model1_pred,houseprice_train)"
   ]
  },
  {
   "cell_type": "code",
   "execution_count": 25,
   "metadata": {},
   "outputs": [
    {
     "name": "stderr",
     "output_type": "stream",
     "text": [
      "C:\\Users\\retec\\Anaconda3\\envs\\tens\\lib\\site-packages\\seaborn\\_decorators.py:43: FutureWarning: Pass the following variables as keyword args: x, y. From version 0.12, the only valid positional argument will be `data`, and passing other arguments without an explicit keyword will result in an error or misinterpretation.\n",
      "  FutureWarning\n"
     ]
    },
    {
     "data": {
      "text/plain": [
       "<AxesSubplot:ylabel='Price'>"
      ]
     },
     "execution_count": 25,
     "metadata": {},
     "output_type": "execute_result"
    },
    {
     "data": {
      "image/png": "[encoded data removed]",
      "text/plain": [
       "<Figure size 432x288 with 1 Axes>"
      ]
     },
     "metadata": {
      "needs_background": "light"
     },
     "output_type": "display_data"
    }
   ],
   "source": [
    "sns.regplot(model2_pred,houseprice_train)"
   ]
  },
  {
   "cell_type": "code",
   "execution_count": 26,
   "metadata": {},
   "outputs": [
    {
     "name": "stderr",
     "output_type": "stream",
     "text": [
      "C:\\Users\\retec\\Anaconda3\\envs\\tens\\lib\\site-packages\\seaborn\\_decorators.py:43: FutureWarning: Pass the following variables as keyword args: x, y. From version 0.12, the only valid positional argument will be `data`, and passing other arguments without an explicit keyword will result in an error or misinterpretation.\n",
      "  FutureWarning\n"
     ]
    },
    {
     "data": {
      "text/plain": [
       "<AxesSubplot:ylabel='Price'>"
      ]
     },
     "execution_count": 26,
     "metadata": {},
     "output_type": "execute_result"
    },
    {
     "data": {
      "image/png": "[encoded data removed]",
      "text/plain": [
       "<Figure size 432x288 with 1 Axes>"
      ]
     },
     "metadata": {
      "needs_background": "light"
     },
     "output_type": "display_data"
    }
   ],
   "source": [
    "sns.regplot(model3_pred,houseprice_train)"
   ]
  },
  {
   "cell_type": "code",
   "execution_count": 27,
   "metadata": {},
   "outputs": [
    {
     "name": "stderr",
     "output_type": "stream",
     "text": [
      "C:\\Users\\retec\\Anaconda3\\envs\\tens\\lib\\site-packages\\seaborn\\_decorators.py:43: FutureWarning: Pass the following variables as keyword args: x, y. From version 0.12, the only valid positional argument will be `data`, and passing other arguments without an explicit keyword will result in an error or misinterpretation.\n",
      "  FutureWarning\n"
     ]
    },
    {
     "data": {
      "text/plain": [
       "<AxesSubplot:ylabel='Price'>"
      ]
     },
     "execution_count": 27,
     "metadata": {},
     "output_type": "execute_result"
    },
    {
     "data": {
      "image/png": "[encoded data removed]",
      "text/plain": [
       "<Figure size 432x288 with 1 Axes>"
      ]
     },
     "metadata": {
      "needs_background": "light"
     },
     "output_type": "display_data"
    }
   ],
   "source": [
    "sns.regplot(model4_pred,houseprice_train)"
   ]
  },
  {
   "cell_type": "markdown",
   "metadata": {},
   "source": [
    "# Testing"
   ]
  },
  {
   "cell_type": "code",
   "execution_count": 28,
   "metadata": {},
   "outputs": [],
   "source": [
    "houseprice_test=X_test['Price']"
   ]
  },
  {
   "cell_type": "code",
   "execution_count": 29,
   "metadata": {},
   "outputs": [
    {
     "name": "stderr",
     "output_type": "stream",
     "text": [
      "C:\\Users\\retec\\Anaconda3\\envs\\tens\\lib\\site-packages\\ipykernel_launcher.py:3: SettingWithCopyWarning: \n",
      "A value is trying to be set on a copy of a slice from a DataFrame.\n",
      "Try using .loc[row_indexer,col_indexer] = value instead\n",
      "\n",
      "See the caveats in the documentation: https://pandas.pydata.org/pandas-docs/stable/user_guide/indexing.html#returning-a-view-versus-a-copy\n",
      "  This is separate from the ipykernel package so we can avoid doing imports until\n"
     ]
    }
   ],
   "source": [
    "data_test=data_processing(X_test)"
   ]
  },
  {
   "cell_type": "code",
   "execution_count": 30,
   "metadata": {},
   "outputs": [],
   "source": [
    "model1_test=np.exp(model1.predict(data_test))\n",
    "model2_test=np.exp(model2.predict(data_test))\n",
    "model3_test=np.exp(model3.predict(data_test))\n",
    "model4_test=np.exp(model4.predict(data_test))"
   ]
  },
  {
   "cell_type": "code",
   "execution_count": 31,
   "metadata": {},
   "outputs": [
    {
     "name": "stderr",
     "output_type": "stream",
     "text": [
      "C:\\Users\\retec\\Anaconda3\\envs\\tens\\lib\\site-packages\\seaborn\\_decorators.py:43: FutureWarning: Pass the following variables as keyword args: x, y. From version 0.12, the only valid positional argument will be `data`, and passing other arguments without an explicit keyword will result in an error or misinterpretation.\n",
      "  FutureWarning\n"
     ]
    },
    {
     "data": {
      "text/plain": [
       "<AxesSubplot:ylabel='Price'>"
      ]
     },
     "execution_count": 31,
     "metadata": {},
     "output_type": "execute_result"
    },
    {
     "data": {
      "image/png": "[encoded data removed]",
      "text/plain": [
       "<Figure size 432x288 with 1 Axes>"
      ]
     },
     "metadata": {
      "needs_background": "light"
     },
     "output_type": "display_data"
    }
   ],
   "source": [
    "sns.regplot(model1_test,houseprice_test)"
   ]
  },
  {
   "cell_type": "code",
   "execution_count": 32,
   "metadata": {},
   "outputs": [
    {
     "name": "stderr",
     "output_type": "stream",
     "text": [
      "C:\\Users\\retec\\Anaconda3\\envs\\tens\\lib\\site-packages\\seaborn\\_decorators.py:43: FutureWarning: Pass the following variables as keyword args: x, y. From version 0.12, the only valid positional argument will be `data`, and passing other arguments without an explicit keyword will result in an error or misinterpretation.\n",
      "  FutureWarning\n"
     ]
    },
    {
     "data": {
      "text/plain": [
       "<AxesSubplot:ylabel='Price'>"
      ]
     },
     "execution_count": 32,
     "metadata": {},
     "output_type": "execute_result"
    },
    {
     "data": {
      "image/png": "[encoded data removed]",
      "text/plain": [
       "<Figure size 432x288 with 1 Axes>"
      ]
     },
     "metadata": {
      "needs_background": "light"
     },
     "output_type": "display_data"
    }
   ],
   "source": [
    "sns.regplot(model2_test,houseprice_test)"
   ]
  },
  {
   "cell_type": "code",
   "execution_count": 33,
   "metadata": {},
   "outputs": [
    {
     "name": "stderr",
     "output_type": "stream",
     "text": [
      "C:\\Users\\retec\\Anaconda3\\envs\\tens\\lib\\site-packages\\seaborn\\_decorators.py:43: FutureWarning: Pass the following variables as keyword args: x, y. From version 0.12, the only valid positional argument will be `data`, and passing other arguments without an explicit keyword will result in an error or misinterpretation.\n",
      "  FutureWarning\n"
     ]
    },
    {
     "data": {
      "text/plain": [
       "<AxesSubplot:ylabel='Price'>"
      ]
     },
     "execution_count": 33,
     "metadata": {},
     "output_type": "execute_result"
    },
    {
     "data": {
      "image/png": "[encoded data removed]",
      "text/plain": [
       "<Figure size 432x288 with 1 Axes>"
      ]
     },
     "metadata": {
      "needs_background": "light"
     },
     "output_type": "display_data"
    }
   ],
   "source": [
    "sns.regplot(model3_test,houseprice_test)"
   ]
  },
  {
   "cell_type": "code",
   "execution_count": 34,
   "metadata": {},
   "outputs": [
    {
     "name": "stderr",
     "output_type": "stream",
     "text": [
      "C:\\Users\\retec\\Anaconda3\\envs\\tens\\lib\\site-packages\\seaborn\\_decorators.py:43: FutureWarning: Pass the following variables as keyword args: x, y. From version 0.12, the only valid positional argument will be `data`, and passing other arguments without an explicit keyword will result in an error or misinterpretation.\n",
      "  FutureWarning\n"
     ]
    },
    {
     "data": {
      "text/plain": [
       "<AxesSubplot:ylabel='Price'>"
      ]
     },
     "execution_count": 34,
     "metadata": {},
     "output_type": "execute_result"
    },
    {
     "data": {
      "image/png": "[encoded data removed]",
      "text/plain": [
       "<Figure size 432x288 with 1 Axes>"
      ]
     },
     "metadata": {
      "needs_background": "light"
     },
     "output_type": "display_data"
    }
   ],
   "source": [
    "sns.regplot(model4_test,houseprice_test)"
   ]
  },
  {
   "cell_type": "code",
   "execution_count": 35,
   "metadata": {},
   "outputs": [],
   "source": [
    "model1_r2=r2_score(model1_test,houseprice_test)\n",
    "\n",
    "model2_r2=r2_score(model2_test,houseprice_test)\n",
    "\n",
    "model3_r2=r2_score(model3_test,houseprice_test)\n",
    "\n",
    "model4_r2=r2_score(model4_test,houseprice_test)"
   ]
  },
  {
   "cell_type": "code",
   "execution_count": 36,
   "metadata": {},
   "outputs": [
    {
     "name": "stdout",
     "output_type": "stream",
     "text": [
      "model1_error:0.538825956024066\n",
      "model2_error:0.5394073065736597\n",
      "model3_error:0.9474196306447211\n",
      "model4_error:0.9271038597655583\n"
     ]
    }
   ],
   "source": [
    "print(\"model1_error:{}\\nmodel2_error:{}\\nmodel3_error:{}\\nmodel4_error:{}\".format(model1_r2,model2_r2,model3_r2,model4_r2))"
   ]
  },
  {
   "cell_type": "markdown",
   "metadata": {},
   "source": [
    "# Model exporting"
   ]
  },
  {
   "cell_type": "code",
   "execution_count": 37,
   "metadata": {},
   "outputs": [],
   "source": [
    "import joblib as jb"
   ]
  },
  {
   "cell_type": "code",
   "execution_count": 38,
   "metadata": {},
   "outputs": [
    {
     "data": {
      "text/plain": [
       "['Chennai_house_price.pkl']"
      ]
     },
     "execution_count": 38,
     "metadata": {},
     "output_type": "execute_result"
    }
   ],
   "source": [
    "jb.dump(model4,'Chennai_house_price.pkl')"
   ]
  },
  {
   "cell_type": "code",
   "execution_count": null,
   "metadata": {},
   "outputs": [],
   "source": []
  },
  {
   "cell_type": "code",
   "execution_count": null,
   "metadata": {},
   "outputs": [],
   "source": []
  }
 ],
 "metadata": {
  "kernelspec": {
   "display_name": "Python 3 (ipykernel)",
   "language": "python",
   "name": "python3"
  },
  "language_info": {
   "codemirror_mode": {
    "name": "ipython",
    "version": 3
   },
   "file_extension": ".py",
   "mimetype": "text/x-python",
   "name": "python",
   "nbconvert_exporter": "python",
   "pygments_lexer": "ipython3",
   "version": "3.7.1"
  }
 },
 "nbformat": 4,
 "nbformat_minor": 4
}
